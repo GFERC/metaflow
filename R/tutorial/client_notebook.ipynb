{
 "cells": [
  {
   "cell_type": "markdown",
   "metadata": {},
   "source": [
    "# Step 3 - Metaflow Tutorial\n",
    "## performing model analysis in a Notebook\n",
    "Once a model is saved as a data artifact in Metaflow data repository, it can be retrieved using Metaflow's Client API for running ad-hoc analysis. In this notebook, we use Metaflow's Client API to retrieve predictions from the repository.\n",
    "\n",
    "If Metaflow is not already installed: Use the following cell to install. Here we're using `-q` is for quiet install\n",
    "\n",
    "Comment out the second line and uncomment the thrid line to upgrade if you've already installed Metaflow "
   ]
  },
  {
   "cell_type": "code",
   "execution_count": null,
   "metadata": {},
   "outputs": [],
   "source": [
    "install.packages(\"reticulate\", repos=\"https://cloud.r-project.org\")\n",
    "library(reticulate)\n",
    "py_install(\"nflx_metaflow\")\n",
    "\n",
    "install.packages(\"metaflow\", repos=\"https://cloud.r-project.org\")\n"
   ]
  },
  {
   "cell_type": "markdown",
   "metadata": {},
   "source": [
    "Using the [Client API](https://docs.metaflow.org/metaflow/client) we can review the House Price Prediction Flow and each run. \n",
    "To view your last successful flow you can just enter:\n",
    "```R\n",
    "housing_flow <- flow_client$new(\"HousingFlow\")\n",
    "latest_successful_run_id <- housing_flow$latest_successful_run\n",
    "latest_successful_run <- housing_flow$run(latest_successful_run_id)\n",
    "```\n",
    "\n",
    "To explore other individual **runs** we use: `flow$new('flowname')$run(runnumber)` you'll have to remember the run number from when you ran your flow. \n",
    "\n",
    "\n",
    "**Note:** If you get the following error ` MetaflowNamespaceMismatch: Object not in namespace 'user:<your_user_name>'`, execute `set_namespace(user:<your_user_name>)`"
   ]
  },
  {
   "cell_type": "code",
   "execution_count": null,
   "metadata": {
    "hide_input": false
   },
   "outputs": [],
   "source": [
    "library(metaflow)\n",
    "\n",
    "housing_flow <- flow_client$new(\"HousingFlow\")\n",
    "summary(housing_flow)\n",
    "\n",
    "latest_successful_run <- housing_flow$run(housing_flow$latest_successful_run)\n",
    "summary(latest_successful_run)"
   ]
  },
  {
   "cell_type": "markdown",
   "metadata": {},
   "source": [
    "Retrieving the *predictions* is easy"
   ]
  },
  {
   "cell_type": "code",
   "execution_count": null,
   "metadata": {},
   "outputs": [],
   "source": [
    "score_data_step <- latest_successful_run$step('score_data')\n",
    "summary(score_data_step)\n",
    "\n",
    "score_data_task <- score_data_step$task(score_data_step$tasks)\n",
    "summary(score_data_task)\n",
    "predictions <- score_data_task$artifact('predictions')\n",
    "print(predictions)\n"
   ]
  }
 ],
 "metadata": {
  "hide_input": false,
  "kernelspec": {
   "display_name": "R",
   "language": "R",
   "name": "ir"
  },
  "language_info": {
   "codemirror_mode": "r",
   "file_extension": ".r",
   "mimetype": "text/x-r-source",
   "name": "R",
   "pygments_lexer": "r",
   "version": "3.6.2"
  },
  "nteract": {
   "version": "nteract-on-jupyter@1.9.9"
  }
 },
 "nbformat": 4,
 "nbformat_minor": 2
}
