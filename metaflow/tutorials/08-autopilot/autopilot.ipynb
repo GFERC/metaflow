{
 "cells": [
  {
   "cell_type": "markdown",
   "metadata": {},
   "source": [
    "# Episode 08: Scheduling Compute in the Cloud.\n",
    "\n",
    "### This notebook shows how you can track Metaflow flows that have been scheduled to execute in the cloud."
   ]
  },
  {
   "cell_type": "markdown",
   "metadata": {},
   "source": [
    "## Import the metaflow client"
   ]
  },
  {
   "cell_type": "code",
   "execution_count": null,
   "metadata": {},
   "outputs": [],
   "source": [
    "from metaflow import Metaflow, Flow, Step, get_metadata, namespace\n",
    "namespace(None)\n",
    "print(\"Current metadata provider: %s\" % get_metadata())"
   ]
  },
  {
   "cell_type": "markdown",
   "metadata": {},
   "source": [
    "## List all flows with their latest completion time and status"
   ]
  },
  {
   "cell_type": "code",
   "execution_count": null,
   "metadata": {},
   "outputs": [],
   "source": [
    "for flow in Metaflow():\n",
    "    run = flow.latest_run\n",
    "    print(\"{:<15} Last run: {} Successful: {}\".\\\n",
    "          format(flow.id, run.finished_at, run.successful))"
   ]
  },
  {
   "cell_type": "markdown",
   "metadata": {},
   "source": [
    "## Give some detailed information on scheduled HelloAWSFlow"
   ]
  },
  {
   "cell_type": "code",
   "execution_count": null,
   "metadata": {},
   "outputs": [],
   "source": [
    "# When you deployed your flow to AWS Step Functions using `step-functions create`, you would have\n",
    "# seen an output similar to - \n",
    "#\n",
    "# ...\n",
    "# The namespace of this production flow is\n",
    "#     production:lorem-ipsum\n",
    "# To analyze results of this production flow add this line in your notebooks:\n",
    "#     namespace(\"production:lorem-ipsum\")\n",
    "# ...\n",
    "#\n",
    "# Replace `namespace(None)` with your custom namespace (e.g, namespace(\"production:lorem-ipsum\")) below.\n",
    "namespace(None)\n",
    "\n",
    "import time\n",
    "\n",
    "flow = Flow('MovieStatsFlow')\n",
    "runs = list(flow.runs())\n",
    "print(\"MovieStatsFlow:\")\n",
    "for run in runs:\n",
    "    print(\"Run id: {}, Successful: {}\".format(run.id, run.successful))\n",
    "    print(\"Tags: {}\\n\".format(sorted(list(run.tags))))"
   ]
  }
 ],
 "metadata": {
  "kernelspec": {
   "display_name": "conda_python3",
   "language": "python",
   "name": "conda_python3"
  },
  "language_info": {
   "codemirror_mode": {
    "name": "ipython",
    "version": 3
   },
   "file_extension": ".py",
   "mimetype": "text/x-python",
   "name": "python",
   "nbconvert_exporter": "python",
   "pygments_lexer": "ipython3",
   "version": "3.6.5"
  }
 },
 "nbformat": 4,
 "nbformat_minor": 2
}
